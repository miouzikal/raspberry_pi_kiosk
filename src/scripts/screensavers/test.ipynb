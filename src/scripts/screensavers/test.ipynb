{
 "cells": [
  {
   "cell_type": "code",
   "execution_count": 3,
   "metadata": {},
   "outputs": [
    {
     "data": {
      "text/plain": [
       "[<Vector2(400, 300)>, <Vector2(390, 300)>, <Vector2(380, 300)>]"
      ]
     },
     "execution_count": 3,
     "metadata": {},
     "output_type": "execute_result"
    }
   ],
   "source": [
    "WINDOW_HEIGHT = 600\n",
    "WINDOW_WIDTH = 800\n",
    "initial_length = 3\n",
    "CELL_SIZE = 10\n",
    "\n",
    "from pygame.math import Vector2\n",
    "\n",
    "[Vector2(WINDOW_WIDTH // 2 - i * CELL_SIZE, WINDOW_HEIGHT // 2) for i in range(initial_length)]"
   ]
  },
  {
   "cell_type": "code",
   "execution_count": 7,
   "metadata": {},
   "outputs": [
    {
     "data": {
      "text/plain": [
       "['UP', 'LEFT']"
      ]
     },
     "execution_count": 7,
     "metadata": {},
     "output_type": "execute_result"
    }
   ],
   "source": [
    "random_x = WINDOW_WIDTH - CELL_SIZE\n",
    "random_y = WINDOW_HEIGHT - CELL_SIZE\n",
    "\n",
    "valid_directions = [\"UP\", \"DOWN\", \"LEFT\", \"RIGHT\"]\n",
    "if random_y == 0:\n",
    "    valid_directions.remove(\"UP\")\n",
    "if random_y == WINDOW_HEIGHT - CELL_SIZE:\n",
    "    valid_directions.remove(\"DOWN\")\n",
    "if random_x == 0:\n",
    "    valid_directions.remove(\"LEFT\")\n",
    "if random_x == WINDOW_WIDTH - CELL_SIZE:\n",
    "    valid_directions.remove(\"RIGHT\")\n",
    "\n",
    "valid_directions"
   ]
  },
  {
   "cell_type": "code",
   "execution_count": null,
   "metadata": {},
   "outputs": [],
   "source": []
  }
 ],
 "metadata": {
  "kernelspec": {
   "display_name": "Python 3",
   "language": "python",
   "name": "python3"
  },
  "language_info": {
   "codemirror_mode": {
    "name": "ipython",
    "version": 3
   },
   "file_extension": ".py",
   "mimetype": "text/x-python",
   "name": "python",
   "nbconvert_exporter": "python",
   "pygments_lexer": "ipython3",
   "version": "3.11.7"
  }
 },
 "nbformat": 4,
 "nbformat_minor": 2
}
